{
 "cells": [
  {
   "cell_type": "markdown",
   "metadata": {},
   "source": [
    "## 2.1 内置序列概览\n",
    "按照存放类型：\n",
    "- 容器序列（存放任意对象的引用）：list，tuple，collections.deque\n",
    "- 扁平序列（存放值，连续内存空间）：str,bytes,bytearray,array.array\n",
    "\n",
    "按照是否可变：\n",
    "- 可变序列：list,bytearray,collections.deque,array.array\n",
    "- 不可变序列：tuple,str,bytes"
   ]
  },
  {
   "cell_type": "markdown",
   "metadata": {},
   "source": [
    "## 2.2列表推导和生成器表达式"
   ]
  },
  {
   "cell_type": "code",
   "execution_count": null,
   "metadata": {},
   "outputs": [],
   "source": [
    "# 列表推倒式\n",
    "colors = ['black','white']\n",
    "sizes = ['s','m','l']\n",
    "tshirts = [(color,size) for color in colors for size in sizes]\n",
    "print(tshirts)\n",
    "\n",
    "# 生成器表达式\n",
    "for tshirt in (f'{color},{size}' for color in colors for size in sizes):\n",
    "  print(tshirt)"
   ]
  },
  {
   "cell_type": "markdown",
   "metadata": {},
   "source": [
    "## 2.3元组的使用"
   ]
  },
  {
   "cell_type": "code",
   "execution_count": null,
   "metadata": {},
   "outputs": [],
   "source": [
    "# 初始化元组\n",
    "lax_cordinates = (1,-2)\n",
    "\n",
    "# unpacking\n",
    "city,year,pop = ('tokyo','2012','1000')\n",
    "print(year)\n",
    "\n",
    "# 利用拆包优雅的交换位置 b,a = a,b\n",
    "\n",
    "# 占位符缺省\n",
    "_,_,lastword = 'da sha bi'.split()\n",
    "print(lastword)\n",
    "\n",
    "# 用*运算符拆包\n",
    "t=(20,8)\n",
    "print(divmod(*t))\n",
    "\n",
    "# 用*运算符还能帮助处理多余的元素\n",
    "a,b,*rest = range(5)\n",
    "print(a,b,rest)\n",
    "\n",
    "a,b,*rest = range(2)\n",
    "print(a,b,rest)\n",
    "\n",
    "a,*body,b,c = range(5)\n",
    "*head,a,b,c = range(5)"
   ]
  },
  {
   "cell_type": "markdown",
   "metadata": {},
   "source": [
    "### 切片的使用"
   ]
  },
  {
   "cell_type": "code",
   "execution_count": null,
   "metadata": {},
   "outputs": [],
   "source": [
    "print(\"bicycle\"[::3])\n",
    "print(\"shabi\"[::-1])\n",
    "print(\"bicycle\"[::-2])\n",
    "\n",
    "l = list(range(10))\n",
    "print(l[2:5])\n",
    "l[2:5]=[20,30]\n",
    "print(l)\n",
    "# l[2:5] = 100\n",
    "l[2:5] = [100]\n",
    "print(l)"
   ]
  },
  {
   "cell_type": "markdown",
   "metadata": {},
   "source": [
    "### 序列的+和*\n",
    "- tuple,list,str都能+和*\n",
    "- 如[[]]*3这类嵌套list，在*的时候，产生的元素其实都是第一个元素的引用"
   ]
  },
  {
   "cell_type": "code",
   "execution_count": null,
   "metadata": {},
   "outputs": [],
   "source": [
    "print([1,2,3]*3)\n",
    "print('abcd'*5)\n",
    "print((1,2,3)*3)\n",
    "print([1,2,3]+[4,5,6])\n",
    "print('abcd'+'efg')\n",
    "print((1,2,3)+(4,5,(6,7)))\n",
    "\n",
    "# 不同的['_']*3，list.append\n",
    "board = [['_']*3 for i in range(3)]\n",
    "board[1][2] = 'x'\n",
    "print(board)\n",
    "# 相同的['_']*3，list.append了三次\n",
    "board = [['_']*3]*3\n",
    "board[1][2] = 'x'\n",
    "print(board)"
   ]
  },
  {
   "cell_type": "markdown",
   "metadata": {},
   "source": [
    "### 序列的+=和*=\n",
    "- a+=b这个表达式中，先会去找__iadd__，如果a没有实现__iadd__，就会先add，在赋值给a。\n",
    "- *=类似，先找__imul__\n",
    "- 如果+=和*=应用于不可变序列，那么就会创建新的序列\n",
    "- ！！永远不要把可变对象放到tuple中"
   ]
  },
  {
   "cell_type": "code",
   "execution_count": null,
   "metadata": {},
   "outputs": [],
   "source": [
    "l = [1,2,3]\n",
    "print(id(l))\n",
    "l+=[4,5]\n",
    "print(id(l))# 会跟之前的内存地址相同\n",
    "\n",
    "t = (1,2,3)\n",
    "print(id(t))\n",
    "t*=3\n",
    "print(id(t))# 一个不同的内存地址"
   ]
  },
  {
   "cell_type": "code",
   "execution_count": null,
   "metadata": {},
   "outputs": [],
   "source": [
    "# t不支持对元素assign，所以会报错\n",
    "# 但同时，报完错后t会被修改掉\n",
    "# 所以+=并不是一个原子操作，他会先计算+，再计算=，t[2]+a会运行成功，但是对t赋值会失败\n",
    "t = (1,2,[3,4])\n",
    "a = [5,6]\n",
    "t[2]+=a"
   ]
  },
  {
   "cell_type": "markdown",
   "metadata": {},
   "source": [
    "### list.sort和sorted()\n",
    "- list.sort就地排序，改变原列表，然后会返回None（python中就地改动原对象的方法都返回None）\n",
    "- sorted（）直接返回一个新的list，它可以接受任何可迭代对象"
   ]
  },
  {
   "cell_type": "code",
   "execution_count": null,
   "metadata": {},
   "outputs": [],
   "source": [
    "a = ['apple','banana','grape','dashabi']\n",
    "print(sorted(a))\n",
    "print(a)\n",
    "print(sorted(a,reverse=True))\n",
    "a.sort(reverse=False,key=len)\n",
    "print(a)"
   ]
  },
  {
   "cell_type": "markdown",
   "metadata": {},
   "source": [
    "### array.array,deque"
   ]
  },
  {
   "cell_type": "code",
   "execution_count": null,
   "metadata": {},
   "outputs": [],
   "source": [
    "from array import array\n",
    "from random import random\n",
    "\n",
    "# array.array更适合存储很多数字，它存的不是float对象，而是字节表述，所以性能强大\n",
    "floats = array('d',(random() for i in range(10**7)))\n",
    "print(floats[-1])\n",
    "with open('temp.bin','wb') as fp:\n",
    "  floats.tofile(fp)\n",
    "floats2 = array('d')\n",
    "with open('temp.bin','rb') as fp:\n",
    "  floats2.fromfile(fp,10**7)\n",
    "print(floats2 == floats)"
   ]
  },
  {
   "cell_type": "code",
   "execution_count": null,
   "metadata": {},
   "outputs": [
    {
     "name": "stdout",
     "output_type": "stream",
     "text": [
      "deque([7, 8, 9, 0, 1, 2, 3, 4, 5, 6], maxlen=10)\n",
      "deque([1, 2, 3, 4, 5, 6, 7, 8, 9, 0], maxlen=10)\n",
      "deque([-1, 1, 2, 3, 4, 5, 6, 7, 8, 9], maxlen=10)\n",
      "deque([3, 4, 5, 6, 7, 8, 9, 11, 22, 33], maxlen=10)\n",
      "deque([30, 20, 10, 3, 4, 5, 6, 7, 8, 9], maxlen=10)\n"
     ]
    }
   ],
   "source": [
    "from collections import deque\n",
    "\n",
    "## 双向队列对头尾的操作进行了优化，且线程安全\n",
    "dq = deque(range(10),maxlen=10)\n",
    "dq.rotate(3)\n",
    "print(dq)\n",
    "dq.rotate(-4)\n",
    "print(dq)\n",
    "dq.appendleft(-1)\n",
    "print(dq)\n",
    "dq.extend([11,22,33])\n",
    "print(dq)\n",
    "dq.extendleft([10,20,30])\n",
    "print(dq)"
   ]
  }
 ],
 "metadata": {
  "kernelspec": {
   "display_name": "Python 3",
   "language": "python",
   "name": "python3"
  },
  "language_info": {
   "codemirror_mode": {
    "name": "ipython",
    "version": 3
   },
   "file_extension": ".py",
   "mimetype": "text/x-python",
   "name": "python",
   "nbconvert_exporter": "python",
   "pygments_lexer": "ipython3",
   "version": "3.11.6"
  }
 },
 "nbformat": 4,
 "nbformat_minor": 2
}
