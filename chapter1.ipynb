{
 "cells": [
  {
   "cell_type": "markdown",
   "metadata": {},
   "source": [
    "## 利用元组实现扑克牌"
   ]
  },
  {
   "cell_type": "markdown",
   "metadata": {},
   "source": [
    "- 字符串是Iterable对象，list函数会将其转化为一个[]\n",
    "- namedtuple 是一个工厂函数，它来自于 collections 模块，用于创建一个自定义的元组对象。这个对象不仅具有元组的不可变性，还可以通过属性名而不是索引来访问，使得代码更加清晰。nametuple('card',\\['rank','suit'\\])会创建一个card对象，这个对象有rank和suit2个可访问属性。\n",
    "- split()传空值是以空格为分隔符"
   ]
  },
  {
   "cell_type": "code",
   "execution_count": null,
   "metadata": {},
   "outputs": [],
   "source": [
    "import collections\n",
    "\n",
    "Card = collections.namedtuple('Card',['rank','suit'])\n",
    "\n",
    "class FrenchDeck:\n",
    "  ranks = [str(i) for i in range(2,11)] + list('JQKA')\n",
    "  suits = \"heitao fangkuai meihua hongxing\".split()\n",
    "\n",
    "  \n",
    "  def __init__(self):\n",
    "    self._Cards = [Card(rank,suit) for suit in self.suits for rank in self.ranks]\n",
    "\n",
    "  def __len__(self):\n",
    "    return len(self._Cards) \n",
    "  \n",
    "  def __getitem__(self, position):\n",
    "    return self._Cards[position]\n",
    "  \n",
    "fd = FrenchDeck()\n",
    "print(len(fd))\n",
    "print(fd[12::13])\n",
    "print(fd[0:4])"
   ]
  },
  {
   "cell_type": "markdown",
   "metadata": {},
   "source": [
    "## sort函数\n",
    "- 字典是一个可变无序容器，键值可以是任意东西\n",
    "- sort函数的key可以指定排序方法"
   ]
  },
  {
   "cell_type": "code",
   "execution_count": null,
   "metadata": {},
   "outputs": [],
   "source": [
    "deck = FrenchDeck()\n",
    "\n",
    "suit_values = dict(heitao=3,fangkuai=2,meihua=1,hongxing=0)\n",
    "\n",
    "def card_order(card):\n",
    "  rank_val = FrenchDeck.ranks.index(card.rank)\n",
    "  return rank_val*len(FrenchDeck.suits)+suit_values[card.suit]\n",
    "\n",
    "sorted_cards = sorted(deck, key = card_order)\n",
    "\n",
    "sorted_cards"
   ]
  }
 ],
 "metadata": {
  "kernelspec": {
   "display_name": "Python 3",
   "language": "python",
   "name": "python3"
  },
  "language_info": {
   "codemirror_mode": {
    "name": "ipython",
    "version": 3
   },
   "file_extension": ".py",
   "mimetype": "text/x-python",
   "name": "python",
   "nbconvert_exporter": "python",
   "pygments_lexer": "ipython3",
   "version": "3.13.0"
  }
 },
 "nbformat": 4,
 "nbformat_minor": 2
}
