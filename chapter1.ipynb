{
 "cells": [
  {
   "cell_type": "markdown",
   "metadata": {},
   "source": [
    "## 利用元组实现扑克牌"
   ]
  },
  {
   "cell_type": "markdown",
   "metadata": {},
   "source": [
    "- 字符串是Iterable对象，list函数会将其转化为一个[]\n",
    "- namedtuple 是一个工厂函数，它来自于 collections 模块，用于创建一个自定义的元组对象。这个对象不仅具有元组的不可变性，还可以通过属性名而不是索引来访问，使得代码更加清晰。nametuple('card',\\['rank','suit'\\])会创建一个card对象，这个对象有rank和suit2个可访问属性。\n",
    "- split()传空值是以空格为分隔符"
   ]
  },
  {
   "cell_type": "code",
   "execution_count": 19,
   "metadata": {},
   "outputs": [
    {
     "name": "stdout",
     "output_type": "stream",
     "text": [
      "52\n",
      "[Card(rank='A', suit='heitao'), Card(rank='A', suit='fangkuai'), Card(rank='A', suit='meihua'), Card(rank='A', suit='hongxing')]\n",
      "[Card(rank='2', suit='heitao'), Card(rank='3', suit='heitao'), Card(rank='4', suit='heitao'), Card(rank='5', suit='heitao')]\n"
     ]
    }
   ],
   "source": [
    "import collections\n",
    "\n",
    "Card = collections.namedtuple('Card',['rank','suit'])\n",
    "\n",
    "class FrenchDeck:\n",
    "  ranks = [str(i) for i in range(2,11)] + list('JQKA')\n",
    "  suits = \"heitao fangkuai meihua hongxing\".split()\n",
    "\n",
    "  \n",
    "  def __init__(self):\n",
    "    self._Cards = [Card(rank,suit) for suit in self.suits for rank in self.ranks]\n",
    "\n",
    "  def __len__(self):\n",
    "    return len(self._Cards) \n",
    "  \n",
    "  def __getitem__(self, position):\n",
    "    return self._Cards[position]\n",
    "  \n",
    "fd = FrenchDeck()\n",
    "print(len(fd))\n",
    "print(fd[12::13])\n",
    "print(fd[0:4])"
   ]
  },
  {
   "cell_type": "code",
   "execution_count": 20,
   "metadata": {},
   "outputs": [
    {
     "ename": "TypeError",
     "evalue": "'dict' object is not callable",
     "output_type": "error",
     "traceback": [
      "\u001b[1;31m---------------------------------------------------------------------------\u001b[0m",
      "\u001b[1;31mTypeError\u001b[0m                                 Traceback (most recent call last)",
      "Cell \u001b[1;32mIn[20], line 9\u001b[0m\n\u001b[0;32m      6\u001b[0m   rank_val \u001b[38;5;241m=\u001b[39m FrenchDeck\u001b[38;5;241m.\u001b[39mranks\u001b[38;5;241m.\u001b[39mindex(card\u001b[38;5;241m.\u001b[39mrank)\n\u001b[0;32m      7\u001b[0m   \u001b[38;5;28;01mreturn\u001b[39;00m rank_val\u001b[38;5;241m*\u001b[39m\u001b[38;5;28mlen\u001b[39m(FrenchDeck\u001b[38;5;241m.\u001b[39msuits)\u001b[38;5;241m+\u001b[39msuit_values(card\u001b[38;5;241m.\u001b[39msuit)\n\u001b[1;32m----> 9\u001b[0m sorted_cards \u001b[38;5;241m=\u001b[39m \u001b[38;5;28;43msorted\u001b[39;49m\u001b[43m(\u001b[49m\u001b[43mdeck\u001b[49m\u001b[43m,\u001b[49m\u001b[43m \u001b[49m\u001b[43mkey\u001b[49m\u001b[43m \u001b[49m\u001b[38;5;241;43m=\u001b[39;49m\u001b[43m \u001b[49m\u001b[43mcard_order\u001b[49m\u001b[43m)\u001b[49m\n\u001b[0;32m     11\u001b[0m sorted_cards\n",
      "Cell \u001b[1;32mIn[20], line 7\u001b[0m, in \u001b[0;36mcard_order\u001b[1;34m(card)\u001b[0m\n\u001b[0;32m      5\u001b[0m \u001b[38;5;28;01mdef\u001b[39;00m \u001b[38;5;21mcard_order\u001b[39m(card):\n\u001b[0;32m      6\u001b[0m   rank_val \u001b[38;5;241m=\u001b[39m FrenchDeck\u001b[38;5;241m.\u001b[39mranks\u001b[38;5;241m.\u001b[39mindex(card\u001b[38;5;241m.\u001b[39mrank)\n\u001b[1;32m----> 7\u001b[0m   \u001b[38;5;28;01mreturn\u001b[39;00m rank_val\u001b[38;5;241m*\u001b[39m\u001b[38;5;28mlen\u001b[39m(FrenchDeck\u001b[38;5;241m.\u001b[39msuits)\u001b[38;5;241m+\u001b[39m\u001b[43msuit_values\u001b[49m\u001b[43m(\u001b[49m\u001b[43mcard\u001b[49m\u001b[38;5;241;43m.\u001b[39;49m\u001b[43msuit\u001b[49m\u001b[43m)\u001b[49m\n",
      "\u001b[1;31mTypeError\u001b[0m: 'dict' object is not callable"
     ]
    }
   ],
   "source": [
    "deck = FrenchDeck()\n",
    "\n",
    "suit_values = dict(heitao=3,fangkuai=2,meihua=1,hongxing=0)\n",
    "\n",
    "def card_order(card):\n",
    "  rank_val = FrenchDeck.ranks.index(card.rank)\n",
    "  return rank_val*len(FrenchDeck.suits)+suit_values(card.suit)\n",
    "\n",
    "sorted_cards = sorted(deck, key = card_order)\n",
    "\n",
    "sorted_cards"
   ]
  }
 ],
 "metadata": {
  "kernelspec": {
   "display_name": "Python 3",
   "language": "python",
   "name": "python3"
  },
  "language_info": {
   "codemirror_mode": {
    "name": "ipython",
    "version": 3
   },
   "file_extension": ".py",
   "mimetype": "text/x-python",
   "name": "python",
   "nbconvert_exporter": "python",
   "pygments_lexer": "ipython3",
   "version": "3.13.0"
  }
 },
 "nbformat": 4,
 "nbformat_minor": 2
}
