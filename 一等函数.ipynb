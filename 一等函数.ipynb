{
 "cells": [
  {
   "cell_type": "markdown",
   "metadata": {},
   "source": [
    "### python的函数都是一等函数\n",
    "一等函数指的是：\n",
    "- 在运行时创建\n",
    "- 能赋值给变量或数据结构中的元素\n",
    "- 能作为参数传给函数\n",
    "- 能作为函数的返回结果\n",
    "\n",
    "要把函数视作对象"
   ]
  },
  {
   "cell_type": "code",
   "execution_count": null,
   "metadata": {},
   "outputs": [],
   "source": [
    "def factorial(n):\n",
    "  '''\n",
    "  return n!\n",
    "  '''\n",
    "  \n",
    "  return n if n <2 else n*factorial(n-1)\n",
    "\n",
    "print(factorial(5))\n",
    "print(type(factorial)) # <class 'function'>\n",
    "\n",
    "fac = factorial\n",
    "print(fac(6))\n",
    "print(map(fac,range(6)))\n",
    "print(list(map(fac,range(10))))"
   ]
  },
  {
   "cell_type": "markdown",
   "metadata": {},
   "source": [
    "#### 高阶函数\n",
    "能够接受函数为参数或者把函数作为结果返回的函数都是高阶函数，比如map，reduce，filter"
   ]
  },
  {
   "cell_type": "code",
   "execution_count": null,
   "metadata": {},
   "outputs": [],
   "source": [
    "fruits = ['strawberry','banana','apple','cherry','raspberry']\n",
    "print(sorted(fruits,key=len))\n",
    "\n",
    "def reverse(word):\n",
    "  return word[::-1] # 调换字母顺序\n",
    "\n",
    "print(sorted(fruits,key = reverse))"
   ]
  },
  {
   "cell_type": "markdown",
   "metadata": {},
   "source": [
    "用列表推倒式取代部分高阶函数：\n",
    "- list(map(fact,range(10)))，可以用[fact(n) for n in range(10)]\n",
    "- list(map(fact, filter(lambda n:n%2,range(10)))),可以用[fact(n) for n in range(10) if n % 2]"
   ]
  },
  {
   "cell_type": "code",
   "execution_count": null,
   "metadata": {},
   "outputs": [],
   "source": [
    "# 少用匿名函数，难读且有语法限制，\n",
    "fruits = ['banana','apple','cherry']\n",
    "print(sorted(fruits,key = lambda fruit:fruit[::-1]))"
   ]
  },
  {
   "cell_type": "markdown",
   "metadata": {},
   "source": [
    "#### 可调用对象\n",
    "可调用对象即为可以被调用运算符（即（））应用的对象，callable（）返回true的对象。有以下7种：\n",
    "- def或lambda创建的函数\n",
    "- 内置函数，如len，time.strftime\n",
    "- 内置方法，如dict.get，dict.setdefault\n",
    "- 类，因为类新建时候是调用__new__和__init__的\n",
    "- 类的实例，如果类定义了__call__方法，那么它的实例可以作为函数调用\n",
    "- 生成器函数，yield函数返回生成器对象"
   ]
  },
  {
   "cell_type": "code",
   "execution_count": null,
   "metadata": {},
   "outputs": [],
   "source": [
    "# 实现__call__，得到一个可以当方法调用的类实例\n",
    "import random\n",
    "\n",
    "class BingoCage:\n",
    "  def __init__(self,items):\n",
    "    self._items = list(items)\n",
    "    random.shuffle(self._items)\n",
    "  \n",
    "  def pick(self):\n",
    "    try:\n",
    "      return self._items.pop()\n",
    "    except IndexError:\n",
    "      raise LookupError('pick from empty bingocage')\n",
    "  \n",
    "  def __call__(self):\n",
    "    return self.pick()\n",
    "  \n",
    "bingo = BingoCage(range(3))\n",
    "\n",
    "print(bingo.pick())\n",
    "print(bingo()) #实例当方法用"
   ]
  },
  {
   "cell_type": "code",
   "execution_count": null,
   "metadata": {},
   "outputs": [],
   "source": [
    "# 一些函数有而普通对象没有的属性\n",
    "class C:\n",
    "  pass\n",
    "\n",
    "def f():\n",
    "  pass\n",
    "\n",
    "c = C()\n",
    "print(sorted(set(dir(f))-set(dir(c))))"
   ]
  },
  {
   "cell_type": "code",
   "execution_count": null,
   "metadata": {},
   "outputs": [],
   "source": [
    "# 定位参数和仅限关键字参数\n",
    "def tag(name, *content, cls=None, **attrs):\n",
    "    if cls is not None:\n",
    "        attrs['class'] = cls\n",
    "    if attrs:\n",
    "        attrs_str = ''.join(f' {attr}=\"{val}\"' for attr, val in sorted(attrs.items()))\n",
    "    else:\n",
    "        attrs_str = ''\n",
    "    if content:\n",
    "        return '\\n'.join(f'<{name}{attrs_str}>{c}</{name}>' for c in content)\n",
    "    else:\n",
    "        return f'<{name}{attrs_str}/>'\n",
    "\n",
    "print(tag('br'))\n",
    "print(tag('p','hello'))\n",
    "print(tag('p','hello','world',cls='sidebar'))\n",
    "print(tag('p','hello','world',cls='sidebar',align='center'))\n"
   ]
  },
  {
   "cell_type": "markdown",
   "metadata": {},
   "source": [
    "#### 参数的内省\n",
    "函数作为一个对象，他的参数实际上也保存在函数对象中。\n",
    "- \\_\\_defaults\\_\\_属性的值是一个元组，保存了定位参数和关键字参数的默认值\n",
    "- \\_\\_kwdefaults\\_\\_属性保存了仅限关键字参数的默认值\n",
    "- \\_\\_code\\_\\_保存了参数的名称"
   ]
  },
  {
   "cell_type": "code",
   "execution_count": null,
   "metadata": {},
   "outputs": [],
   "source": [
    "def clip(text, max_len=80):\n",
    "  end = None\n",
    "  if len(text) > max_len:\n",
    "    space_before = text.rfind(' ',0,max_len)\n",
    "    if space_before >= 0 :\n",
    "      end = space_before\n",
    "    else:\n",
    "      space_after = text.rfind(' ',max_len)\n",
    "      if space_after >= 0:\n",
    "        end = space_after\n",
    "  if end is None:\n",
    "    end = len(text)\n",
    "  return text[:end].rstrip()\n",
    "\n",
    "print(clip.__defaults__)\n",
    "print(clip.__code__.co_varnames)\n",
    "\n",
    "from inspect import signature\n",
    "\n",
    "sig = signature(clip)\n",
    "print(sig)\n",
    "for name ,param in sig.parameters.items():\n",
    "  print(param.kind,':',name,'=',param.default)"
   ]
  },
  {
   "cell_type": "markdown",
   "metadata": {},
   "source": [
    "#### 函数注解（annotation或typehints）\n",
    "annotation和typehints是同一个东西，可以为函数参数和返回值附加元数据，会存储到函数的__annotations__属性中，仅此而已。注解只是元数据，可以给IDE，框架，装饰器等工具使用。"
   ]
  },
  {
   "cell_type": "code",
   "execution_count": null,
   "metadata": {},
   "outputs": [],
   "source": [
    "def clip(text:str, max_len:'int > 0'=80) -> str:\n",
    "  end = None\n",
    "  if len(text) > max_len:\n",
    "    space_before = text.rfind(' ',0,max_len)\n",
    "    if space_before >= 0 :\n",
    "      end = space_before\n",
    "    else:\n",
    "      space_after = text.rfind(' ',max_len)\n",
    "      if space_after >= 0:\n",
    "        end = space_after\n",
    "  if end is None:\n",
    "    end = len(text)\n",
    "  return text[:end].rstrip()\n",
    "\n",
    "print(clip.__annotations__)\n",
    "\n",
    "from inspect import signature\n",
    "\n",
    "sig = signature(clip)\n",
    "for param in sig.parameters.values():\n",
    "  print(param.annotation,param.name,param.default)"
   ]
  },
  {
   "cell_type": "markdown",
   "metadata": {},
   "source": [
    "#### 函数式编程\n",
    "可以使用operator和functools这2个包来做函数式编程"
   ]
  },
  {
   "cell_type": "code",
   "execution_count": null,
   "metadata": {},
   "outputs": [],
   "source": [
    "from functools import reduce\n",
    "def fact(n):\n",
    "  return reduce(lambda a,b:a*b,range(1,n+1))\n",
    "\n",
    "from operator import mul\n",
    "\n",
    "def fact2(n):\n",
    "  return reduce(mul,range(1,n+1))"
   ]
  },
  {
   "cell_type": "code",
   "execution_count": null,
   "metadata": {},
   "outputs": [],
   "source": [
    "# 使用itemgetter\n",
    "from operator import itemgetter\n",
    "\n",
    "data = [('Tokyo','JP'),\n",
    "        ('New York','US'),\n",
    "        ('Mexico city','MX')\n",
    "      ]\n",
    "getter = itemgetter(1)\n",
    "\n",
    "for item in sorted(data,key=getter):\n",
    "  print(item)\n",
    "  \n",
    "for city in data:\n",
    "  print(itemgetter(1,0)(city))"
   ]
  },
  {
   "cell_type": "code",
   "execution_count": null,
   "metadata": {},
   "outputs": [],
   "source": [
    "# partial冻结参数\n",
    "from operator import mul\n",
    "from functools import partial\n",
    "\n",
    "# 冻结mul的第一个参数为3\n",
    "triple = partial(mul,3)\n",
    "triple(7)\n",
    "\n",
    "tuple(map(triple,range(1,10)))"
   ]
  }
 ],
 "metadata": {
  "kernelspec": {
   "display_name": "Python 3",
   "language": "python",
   "name": "python3"
  },
  "language_info": {
   "codemirror_mode": {
    "name": "ipython",
    "version": 3
   },
   "file_extension": ".py",
   "mimetype": "text/x-python",
   "name": "python",
   "nbconvert_exporter": "python",
   "pygments_lexer": "ipython3",
   "version": "3.11.6"
  }
 },
 "nbformat": 4,
 "nbformat_minor": 2
}
