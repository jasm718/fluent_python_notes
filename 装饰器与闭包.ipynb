{
 "cells": [
  {
   "cell_type": "code",
   "execution_count": 1,
   "metadata": {},
   "outputs": [
    {
     "name": "stdout",
     "output_type": "stream",
     "text": [
      "running inner()\n",
      "<function deco.<locals>.inner at 0x107a96f20>\n"
     ]
    }
   ],
   "source": [
    "# 装饰器基础，装饰器就是一个参数为函数的函数\n",
    "# 可以处理并返回作为参数传入的函数，或者替换为另一个函数或可调用对象\n",
    "# @decorate\n",
    "# def target():\n",
    "#   print(\"running target()\")\n",
    "  \n",
    "# def target():\n",
    "#   print(\"running target()\")\n",
    "  \n",
    "# target = decorate(target)\n",
    "# 以上2中写法的效果一摸一样，装饰器其实只是一个语法糖\n",
    "\n",
    "def deco(func):\n",
    "  def inner():\n",
    "    print('running inner()')\n",
    "  return inner\n",
    "\n",
    "@deco\n",
    "def target():\n",
    "  print('running target()')\n",
    "  \n",
    "target()\n",
    "print(target) # target是inner的引用"
   ]
  },
  {
   "cell_type": "code",
   "execution_count": 4,
   "metadata": {},
   "outputs": [
    {
     "name": "stdout",
     "output_type": "stream",
     "text": [
      "running register(<function f1 at 0x107a2bec0>)\n",
      "running register(<function f2 at 0x1079ffce0>)\n",
      "running main()\n",
      "registry -> [<function f1 at 0x107a2bec0>, <function f2 at 0x1079ffce0>]\n",
      "running f1()\n",
      "running f2()\n"
     ]
    }
   ],
   "source": [
    "# 装饰器会在被装饰的函数定义之后立即执行，通常是在模块导入时\n",
    "registry = []\n",
    "\n",
    "def register(func):\n",
    "  print('running register(%s)' % func)\n",
    "  registry.append(func)\n",
    "  return func\n",
    "\n",
    "@register\n",
    "def f1 ():\n",
    "  print('running f1()')\n",
    "\n",
    "@register\n",
    "def f2():\n",
    "  print('running f2()')\n",
    "\n",
    "def main():\n",
    "  print('running main()')\n",
    "  print('registry ->', registry)\n",
    "  f1()\n",
    "  f2()\n",
    "\n",
    "main()# 将会先运行装饰器函数\n",
    "# 如果将这段代码封装到一个模块中，在import这个模块时，会立马运行装饰器函数"
   ]
  },
  {
   "cell_type": "code",
   "execution_count": null,
   "metadata": {},
   "outputs": [],
   "source": [
    "# 使用装饰器改进策略模式\n",
    "promos = []\n",
    "\n",
    "def promotion(promo_func):\n",
    "  promos.append(promo_func)\n",
    "  return promo_func\n",
    "\n",
    "@promotion\n",
    "def fidelity(order):\n",
    "  return order.total()*0.05 if order.customer.fidelity >=1000 else 0\n",
    "\n",
    "@promotion\n",
    "def bulk_item(order):\n",
    "  discount = 0 \n",
    "  for item in order.cart:\n",
    "    if item.quantity >= 20:\n",
    "      discount += item.total()*0.1\n",
    "  return discount\n",
    "\n",
    "def best_promo():\n",
    "  return max([promo(order) for promo in promos])"
   ]
  },
  {
   "cell_type": "code",
   "execution_count": 7,
   "metadata": {},
   "outputs": [
    {
     "name": "stdout",
     "output_type": "stream",
     "text": [
      "3\n",
      "6\n",
      "3\n",
      "6\n"
     ]
    }
   ],
   "source": [
    "# 变量作用域规则\n",
    "# 函数会优先在局部寻找变量，找不到时候再找全局变量\n",
    "b = 6\n",
    "def f1(a):\n",
    "  print(a)\n",
    "  print(b)\n",
    "  \n",
    "def f2(a):\n",
    "  print(a)\n",
    "  print(b) # 这里会报错b没有赋值\n",
    "  b = 1\n",
    "\n",
    "def f3(a):\n",
    "  global b # 用global让函数去找全局而不是局部的变量b\n",
    "  print(a)\n",
    "  print(b)\n",
    "  b = 1  \n",
    "\n",
    "f1(3)\n",
    "f3(3)\n",
    "f2(3)"
   ]
  },
  {
   "cell_type": "code",
   "execution_count": 12,
   "metadata": {},
   "outputs": [
    {
     "name": "stdout",
     "output_type": "stream",
     "text": [
      "10.0\n",
      "10.5\n",
      "11.0\n",
      "10.0\n",
      "10.5\n",
      "11.0\n"
     ]
    }
   ],
   "source": [
    "# 注意，只有嵌套函数时，才会有闭包的问题。\n",
    "# 闭包，指延伸了作用域的函数，其中包含了在函数中引用，但是不在定义体中定义的非全局变量\n",
    "# 闭包，能访问定义体之外定义的非全局变量\n",
    "\n",
    "# 用类实现avg函数\n",
    "class AvgFunc():\n",
    "  def __init__(self):\n",
    "    self.series = []\n",
    "    \n",
    "  def __call__(self, new_val):\n",
    "    self.series.append(new_val)\n",
    "    total = sum(self.series)\n",
    "    return total/len(self.series)\n",
    "\n",
    "avg = AvgFunc()\n",
    "print(avg(10))\n",
    "print(avg(11))\n",
    "print(avg(12))\n",
    "\n",
    "# 用闭包函数实现avg\n",
    "def avg_wrapper():\n",
    "  # series是一个自由变量，未在本地作用域绑定的变量\n",
    "  # series 的绑定在返回的 avg 函数的 __closure__ 属性中。avg.__closure__ 中的各个元\n",
    "  # 素对应于 avg.__code__.co_freevars 中的一个名称。这些元素是 cell 对象，有个 cell_\n",
    "  # contents 属性，保存着真正的值。\n",
    "  series = []\n",
    "   \n",
    "  def avg(num):\n",
    "    series.append(num)\n",
    "    total = sum(series)\n",
    "    return total/len(series)\n",
    "  return avg\n",
    "\n",
    "avg = avg_wrapper()\n",
    "print(avg(10))\n",
    "# 闭包会保存定义函数时的自由变量的绑定，所以即使avg_wrapper已被调用过，定义作用域已经销毁，但还能访问到自由变量\n",
    "\n",
    "print(avg(11))\n",
    "print(avg(12))"
   ]
  },
  {
   "cell_type": "code",
   "execution_count": 13,
   "metadata": {},
   "outputs": [
    {
     "ename": "UnboundLocalError",
     "evalue": "cannot access local variable 'count' where it is not associated with a value",
     "output_type": "error",
     "traceback": [
      "\u001b[0;31m---------------------------------------------------------------------------\u001b[0m",
      "\u001b[0;31mUnboundLocalError\u001b[0m                         Traceback (most recent call last)",
      "Cell \u001b[0;32mIn[13], line 14\u001b[0m\n\u001b[1;32m     11\u001b[0m   \u001b[38;5;28;01mreturn\u001b[39;00m avg\n\u001b[1;32m     13\u001b[0m avg \u001b[38;5;241m=\u001b[39m make_avg()\n\u001b[0;32m---> 14\u001b[0m \u001b[38;5;28mprint\u001b[39m(\u001b[43mavg\u001b[49m\u001b[43m(\u001b[49m\u001b[38;5;241;43m10\u001b[39;49m\u001b[43m)\u001b[49m)\n",
      "Cell \u001b[0;32mIn[13], line 7\u001b[0m, in \u001b[0;36mmake_avg.<locals>.avg\u001b[0;34m(num)\u001b[0m\n\u001b[1;32m      6\u001b[0m \u001b[38;5;28;01mdef\u001b[39;00m \u001b[38;5;21mavg\u001b[39m(num):\n\u001b[0;32m----> 7\u001b[0m   \u001b[43mcount\u001b[49m \u001b[38;5;241m+\u001b[39m\u001b[38;5;241m=\u001b[39m\u001b[38;5;241m1\u001b[39m\n\u001b[1;32m      8\u001b[0m   total \u001b[38;5;241m+\u001b[39m\u001b[38;5;241m=\u001b[39mnum\n\u001b[1;32m      9\u001b[0m   \u001b[38;5;28;01mreturn\u001b[39;00m total\u001b[38;5;241m/\u001b[39mcount\n",
      "\u001b[0;31mUnboundLocalError\u001b[0m: cannot access local variable 'count' where it is not associated with a value"
     ]
    }
   ],
   "source": [
    "# nonlocal声明\n",
    "\n",
    "def make_avg():\n",
    "  count = 0\n",
    "  total = 0\n",
    "  def avg(num):\n",
    "    # 这里是count=count+1，会重新声明count，count就会变成局部变量，所以会报未声明count的错误\n",
    "    # 之前没遇到这个错误，是因为[]是可变对象，而int，str是不可变对象\n",
    "    # nonlocal count，total\n",
    "    count += 1\n",
    "    total += num\n",
    "    return total/count\n",
    "  \n",
    "  return avg\n",
    "\n",
    "avg = make_avg()\n",
    "print(avg(10))\n"
   ]
  },
  {
   "cell_type": "code",
   "execution_count": null,
   "metadata": {},
   "outputs": [
    {
     "name": "stdout",
     "output_type": "stream",
     "text": [
      "[0.00000033s] factorial(1) -> 1\n",
      "[0.00136658s] factorial(2) -> 2\n",
      "[0.00138138s] factorial(3) -> 6\n",
      "[0.00138783s] factorial(4) -> 24\n",
      "[0.00139371s] factorial(5) -> 120\n",
      "[0.00139883s] factorial(6) -> 720\n",
      "[0.00140392s] factorial(7) -> 5040\n",
      "[0.00141071s] factorial(8) -> 40320\n",
      "[0.00141579s] factorial(9) -> 362880\n",
      "[0.00142058s] factorial(10) -> 3628800\n",
      "[0.00142583s] factorial(11) -> 39916800\n",
      "[0.00143067s] factorial(12) -> 479001600\n",
      "[0.00143633s] factorial(13) -> 6227020800\n",
      "[0.00144313s] factorial(14) -> 87178291200\n",
      "[0.00144812s] factorial(15) -> 1307674368000\n",
      "[0.00145308s] factorial(16) -> 20922789888000\n",
      "[0.00145796s] factorial(17) -> 355687428096000\n",
      "[0.00146275s] factorial(18) -> 6402373705728000\n",
      "[0.00146746s] factorial(19) -> 121645100408832000\n",
      "[0.00147292s] factorial(20) -> 2432902008176640000\n",
      "2432902008176640000\n"
     ]
    }
   ],
   "source": [
    "# 实现一个简单的装饰器\n",
    "# 这样的实现不支持关键字参数，而且被装饰函数的__name__和__doc__属性也被修改成了clocked的名字和__doc__\n",
    "import time\n",
    "import functools\n",
    "\n",
    "def clock(func):\n",
    "  def clocked(*args):\n",
    "    t0 = time.perf_counter()\n",
    "    result = func(*args)\n",
    "    elapsed = time.perf_counter() - t0\n",
    "    name = func.__name__\n",
    "    arg_str = ','.join(repr(arg) for arg in args)\n",
    "    print(f'[{elapsed:0.8f}s] {name}({arg_str}) -> {result!r}')\n",
    "    return result\n",
    "  return clocked\n",
    "\n",
    "def new_clock(func):\n",
    "  @functools.wraps(func)\n",
    "  def clocked(*args, **kwargs):\n",
    "    t0 = time.time()\n",
    "    result = func(*args, **kwargs)\n",
    "    elapsed = time.time() - t0\n",
    "    name = func.__name__\n",
    "    arg_lst = []\n",
    "    if args:\n",
    "      arg_lst.append(', '.join(repr(arg) for arg in args))\n",
    "    if kwargs:\n",
    "      pairs = ['%s=%r' % (k, w) for k, w in sorted(kwargs.items())]\n",
    "    arg_lst.append(', '.join(pairs))\n",
    "    arg_str = ', '.join(arg_lst)\n",
    "    print('[%0.8fs] %s(%s) -> %r ' % (elapsed, name, arg_str, result))\n",
    "    return result\n",
    "  return clocked\n",
    "\n",
    "@clock\n",
    "def factorial(n):\n",
    "  return 1 if n < 2 else n*factorial(n-1)\n",
    "\n",
    "print(factorial(20))\n"
   ]
  }
 ],
 "metadata": {
  "kernelspec": {
   "display_name": "Python 3",
   "language": "python",
   "name": "python3"
  },
  "language_info": {
   "codemirror_mode": {
    "name": "ipython",
    "version": 3
   },
   "file_extension": ".py",
   "mimetype": "text/x-python",
   "name": "python",
   "nbconvert_exporter": "python",
   "pygments_lexer": "ipython3",
   "version": "3.11.6"
  }
 },
 "nbformat": 4,
 "nbformat_minor": 2
}
