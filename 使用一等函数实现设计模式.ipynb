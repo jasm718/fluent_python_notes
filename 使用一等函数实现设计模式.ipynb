{
 "cells": [
  {
   "cell_type": "code",
   "execution_count": 4,
   "metadata": {},
   "outputs": [
    {
     "name": "stdout",
     "output_type": "stream",
     "text": [
      "<Order total: 42.00 due: 42.00>\n",
      "<Order total: 42.00 due: 39.90>\n"
     ]
    }
   ],
   "source": [
    "# 策略模式 一组实现相同接口的算法，插入上下文中运行，例如订单-打折算法\n",
    "from abc import ABC, abstractmethod\n",
    "from collections import namedtuple\n",
    "\n",
    "Customer = namedtuple('Customer', 'name fidelity')\n",
    "\n",
    "class LineItem:\n",
    "  def __init__(self, product, quantity, price):\n",
    "    self.product = product\n",
    "    self.quantity = quantity\n",
    "    self.price = price\n",
    "\n",
    "  def total(self):\n",
    "    return self.price * self.quantity\n",
    "  \n",
    "class Order:\n",
    "  def __init__(self, customer, cart, promotion=None):\n",
    "    self.customer = customer\n",
    "    self.cart = list(cart)\n",
    "    self.promotion = promotion\n",
    "\n",
    "  def total(self):\n",
    "    if not hasattr(self,'__total'):\n",
    "      self.__total = sum(item.total() for item in self.cart)\n",
    "    return self.__total\n",
    "  \n",
    "  def due(self):\n",
    "    if self.promotion is None:\n",
    "      discount = 0 \n",
    "    else:\n",
    "      discount = self.promotion.discount(self)\n",
    "    return self.total() - discount\n",
    "  \n",
    "  def __repr__(self):\n",
    "    fmt = '<Order total: {:.2f} due: {:.2f}>'\n",
    "    return fmt.format(self.total(), self.due())\n",
    "\n",
    " \n",
    "class Promotion(ABC):\n",
    "  \n",
    "  @abstractmethod\n",
    "  def discount(self, order):\n",
    "    \"\"\"return a discount\"\"\"\n",
    "\n",
    "class FidelityPromo(Promotion):\n",
    "\n",
    "  def discount(self, order):\n",
    "    return order.total()*0.05 if order.customer.fidelity >= 1000 else 0\n",
    "  \n",
    "class BulkItemPromo(Promotion):\n",
    "  \n",
    "  def discount(self, order):\n",
    "    discount = 0\n",
    "    for item in order.cart:\n",
    "      if item.quantity >= 20:\n",
    "        discount += item.total()*0.1\n",
    "    return discount\n",
    "    \n",
    "\n",
    "class LargeOrderPromo(Promotion):\n",
    "  \n",
    "  def discount(self, order):\n",
    "    distinct_items = {item.product for item in order.cart}\n",
    "    if len(distinct_items) >= 10:\n",
    "      return order.total()*0.07\n",
    "    return 0\n",
    "  \n",
    "joe = Customer('Joe Doe', 0)\n",
    "ann = Customer('Ann Smith', 1100)\n",
    "cart = [\n",
    "  LineItem('banana', 4 , 0.5),\n",
    "  LineItem('apple',10,1.5),\n",
    "  LineItem('paper',5,5.0)\n",
    "]\n",
    "print(Order(joe, cart, FidelityPromo()))\n",
    "print(Order(ann,cart,FidelityPromo()))\n",
    "        "
   ]
  },
  {
   "cell_type": "code",
   "execution_count": 8,
   "metadata": {},
   "outputs": [],
   "source": [
    "# 使用只有一个函数的抽象类来实现打折算法有点太多余，可以把函数直接当参数传入类\n",
    "# 其他不变，改写Order中的due函数\n",
    "def due(self):\n",
    "  if self.promotion is None:\n",
    "    discount = 0\n",
    "  else:\n",
    "    # 直接调用作为属性传入的promotion\n",
    "    discount = self.promotion(self)\n",
    "  return self.total() - discount\n",
    "\n",
    "# 打折算法就直接实现一个函数即可\n",
    "def fidelity_promo(order):\n",
    "  return order.total() * 0.05 if order.customer.fidelity >= 1000 else 0\n",
    "\n",
    "def bulk_item_promo(order):\n",
    "  discount = 0\n",
    "  for item in order.cart:\n",
    "    if item.quantity >= 20:\n",
    "      discount += item.total() * .1\n",
    "  return discount\n",
    "\n",
    "def large_order_promo(order):\n",
    "  distinct_items = {item.product for item in order.cart}\n",
    "  if len(distinct_items) >= 10:\n",
    "    return order.total() * .07\n",
    "  return 0\n"
   ]
  },
  {
   "cell_type": "code",
   "execution_count": null,
   "metadata": {},
   "outputs": [],
   "source": [
    "# 通常，会给用户一个最佳折扣，实现如下，很简单，但是需要自己维护promos列表\n",
    "promos = [fidelity_promo, bulk_item_promo, large_order_promo]\n",
    "\n",
    "def best_promo(order):\n",
    "  return max(promo(order) for promo in promos)"
   ]
  },
  {
   "cell_type": "code",
   "execution_count": null,
   "metadata": {},
   "outputs": [],
   "source": [
    "# 可以使用global函数寻找本模块中的promo函数，自动加到promos列表中\n",
    "promos = [globals()[name] for name in globals() if name.endswith('_promo') and name != 'best_promo']\n",
    "\n",
    "# 另一种做法是把所有promo函数除了best_promo都放到一个promotions模块中，然后用inspect模块获取\n",
    "# promos = [func for name, func in inspect.getmembers(promotions, inspect.isfunction)]"
   ]
  }
 ],
 "metadata": {
  "kernelspec": {
   "display_name": "Python 3",
   "language": "python",
   "name": "python3"
  },
  "language_info": {
   "codemirror_mode": {
    "name": "ipython",
    "version": 3
   },
   "file_extension": ".py",
   "mimetype": "text/x-python",
   "name": "python",
   "nbconvert_exporter": "python",
   "pygments_lexer": "ipython3",
   "version": "3.11.6"
  }
 },
 "nbformat": 4,
 "nbformat_minor": 2
}
