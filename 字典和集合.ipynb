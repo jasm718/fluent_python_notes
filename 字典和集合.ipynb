{
 "cells": [
  {
   "cell_type": "code",
   "execution_count": 16,
   "metadata": {},
   "outputs": [
    {
     "name": "stdout",
     "output_type": "stream",
     "text": [
      "{'China': 86, 'United States': 1, 'Russia': 7, 'Japan': 81}\n",
      "{1: 'UNITED STATES', 7: 'RUSSIA'}\n"
     ]
    }
   ],
   "source": [
    "## 字典推倒式\n",
    "dial_codes = [\n",
    "  (86,'China'),\n",
    "  (1,'United States'),\n",
    "  (7,'Russia'),\n",
    "  (81,'Japan')\n",
    "]\n",
    "cty_code = {cty:code for code,cty in dial_codes}\n",
    "print(cty_code)\n",
    "some_codes = {code:cty.upper() for cty,code in cty_code.items() if code<10}\n",
    "print(some_codes)"
   ]
  },
  {
   "cell_type": "code",
   "execution_count": 28,
   "metadata": {},
   "outputs": [
    {
     "name": "stdout",
     "output_type": "stream",
     "text": [
      "3\n",
      "[]\n"
     ]
    }
   ],
   "source": [
    "# setdefault如果已经存在e，则返回e，如果不存在，则设置e为10\n",
    "d = {\n",
    "  'a':1,\n",
    "  'b':2,\n",
    "  'c':3\n",
    "}\n",
    "print(d.setdefault('c',200))\n",
    "print(d.setdefault('e',[]))"
   ]
  }
 ],
 "metadata": {
  "kernelspec": {
   "display_name": "Python 3",
   "language": "python",
   "name": "python3"
  },
  "language_info": {
   "codemirror_mode": {
    "name": "ipython",
    "version": 3
   },
   "file_extension": ".py",
   "mimetype": "text/x-python",
   "name": "python",
   "nbconvert_exporter": "python",
   "pygments_lexer": "ipython3",
   "version": "3.11.6"
  }
 },
 "nbformat": 4,
 "nbformat_minor": 2
}
